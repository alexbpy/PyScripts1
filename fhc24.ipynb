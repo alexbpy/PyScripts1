{
 "cells": [
  {
   "cell_type": "code",
   "execution_count": 1,
   "metadata": {},
   "outputs": [],
   "source": [
    "prices = {\n",
    "    's_79': 1.5, 's_80': 12, 's_81': 14, 's_82': 16, 's_83': 17, 's_84': 19, 's_85': 27.5,\n",
    "    'lb_79': 1.5, 'lb_80': 10, 'lb_81': 22, 'lb_82': 25, 'lb_83': 55, 'lb_85': 98,\n",
    "    'de_79': 5.5, 'de_80': 9.8, 'de_81': 16, 'de_82': 16, 'de_83': 19, 'de_84': 23, 'de_85': 30,\n",
    "    'dt_79': 2.9, 'dt_80': 14, 'dt_81': 19, 'dt_82': 20, 'dt_83': 21, 'dt_84': 23\n",
    "}"
   ]
  },
  {
   "cell_type": "code",
   "execution_count": null,
   "metadata": {},
   "outputs": [],
   "source": []
  },
  {
   "cell_type": "code",
   "execution_count": 2,
   "metadata": {},
   "outputs": [],
   "source": [
    "import itertools"
   ]
  },
  {
   "cell_type": "code",
   "execution_count": 3,
   "metadata": {},
   "outputs": [
    {
     "name": "stdout",
     "output_type": "stream",
     "text": [
      "(('85_lb',), 1.1529411764705881)\n"
     ]
    }
   ],
   "source": [
    "def find_best_average(data, target):\n",
    "    averages = {k: v/float(k.split('_')[0]) for k, v in data.items()}\n",
    "    best_keys = []\n",
    "    best_avg = float('inf')\n",
    "    \n",
    "    for i in range(1, len(averages)+1):\n",
    "        for combination in itertools.combinations(averages.keys(), i):\n",
    "            avg = sum(averages[k] for k in combination)/len(combination)\n",
    "            if abs(target - avg) < abs(target - best_avg):\n",
    "                best_avg = avg\n",
    "                best_keys = combination\n",
    "                \n",
    "    return best_keys, best_avg\n",
    "\n",
    "data = {\n",
    "    '79_s': 1.5, '80_s': 12, '81_s': 14, '82_s': 16, '83_s': 17, '84_s': 19, '85_s': 27.5,\n",
    "    '79_lb': 1.5, '80_lb': 10, '81_lb': 22, '82_lb': 25, '83_lb': 55, '85_lb': 98,\n",
    "    '79_de': 5.5, '80_de': 9.8, '81_de': 16, '82_de': 16, '83_de': 19, '84_de': 23, '85_de': 30,\n",
    "    '79_dt': 2.9, '80_dt': 14, '81_dt': 19, '82_dt': 20, '83_dt': 21, '84_dt': 23\n",
    "}\n",
    "\n",
    "print(find_best_average(data, 82.5))"
   ]
  },
  {
   "cell_type": "code",
   "execution_count": 4,
   "metadata": {},
   "outputs": [
    {
     "name": "stdout",
     "output_type": "stream",
     "text": [
      "Best combination: ('85_lb',)\n",
      "Average: 1.1529411764705881\n"
     ]
    }
   ],
   "source": [
    "data = {\n",
    "    '79_s': 1.5, '80_s': 12, '81_s': 14, '82_s': 16, '83_s': 17, '84_s': 19, '85_s': 27.5,\n",
    "    '79_lb': 1.5, '80_lb': 10, '81_lb': 22, '82_lb': 25, '83_lb': 55, '85_lb': 98,\n",
    "    '79_de': 5.5, '80_de': 9.8, '81_de': 16, '82_de': 16, '83_de': 19, '84_de': 23, '85_de': 30,\n",
    "    '79_dt': 2.9, '80_dt': 14, '81_dt': 19, '82_dt': 20, '83_dt': 21, '84_dt': 23\n",
    "}\n",
    "\n",
    "target_average = 82.5\n",
    "best_combination, best_average = find_best_average(data, target_average)\n",
    "\n",
    "print(\"Best combination:\", best_combination)\n",
    "print(\"Average:\", best_average)\n"
   ]
  }
 ],
 "metadata": {
  "kernelspec": {
   "display_name": "Python 3",
   "language": "python",
   "name": "python3"
  },
  "language_info": {
   "codemirror_mode": {
    "name": "ipython",
    "version": 3
   },
   "file_extension": ".py",
   "mimetype": "text/x-python",
   "name": "python",
   "nbconvert_exporter": "python",
   "pygments_lexer": "ipython3",
   "version": "0.0.0"
  }
 },
 "nbformat": 4,
 "nbformat_minor": 2
}
